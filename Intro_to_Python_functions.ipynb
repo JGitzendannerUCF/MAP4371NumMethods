{
  "nbformat": 4,
  "nbformat_minor": 0,
  "metadata": {
    "colab": {
      "provenance": [],
      "authorship_tag": "ABX9TyNIYlq9h28AMj309G7MKgjl",
      "include_colab_link": true
    },
    "kernelspec": {
      "name": "python3",
      "display_name": "Python 3"
    },
    "language_info": {
      "name": "python"
    }
  },
  "cells": [
    {
      "cell_type": "markdown",
      "metadata": {
        "id": "view-in-github",
        "colab_type": "text"
      },
      "source": [
        "<a href=\"https://colab.research.google.com/github/JGitzendannerUCF/MAP4371NumMethods/blob/main/Intro_to_Python_functions.ipynb\" target=\"_parent\"><img src=\"https://colab.research.google.com/assets/colab-badge.svg\" alt=\"Open In Colab\"/></a>"
      ]
    },
    {
      "cell_type": "markdown",
      "source": [
        "# **Python Functions**\n",
        "\n",
        "## Functions\n",
        "\n",
        "1/10/24 Introduction to Python Lecture\n",
        "\n",
        "This notebook is intended to provide context to the code shared in class, as well as recompile everything from the summer into an easy to understand place.\n",
        "\n",
        "These notes will be made in jupyter notebooks, I want to figure out what Binder is and how to use it. For now this will work.\n",
        "\n",
        "Note: These notes are personal notes from class lectures, textbooks (namely Python 4 Everyone (Py4E)), and externally audited lectures given by Dr. Matt Gitzendanner."
      ],
      "metadata": {
        "id": "3eicQgHXl5pS"
      }
    },
    {
      "cell_type": "markdown",
      "source": [
        "## Built in Functions\n",
        "One of the goals with python was to keep the main language (built in functions) very limited. Thus, you almost always need to import additional functions, and this is one of the best parts of Python. Different people need different functions; thus, rather than having a bloated language, people are allowed to import whatever modules they need."
      ],
      "metadata": {
        "id": "HNtcA8rLmL1B"
      }
    },
    {
      "cell_type": "markdown",
      "source": [
        "## Example modules\n",
        "\n",
        "Math is one of the most common modules in numerical methods to be imported. We can `import math` to use several functions. Using the following code we can view all of the functions in the module without seeing their values. We can also use the random number module as another example.\n",
        "\n",
        "These numbers are really pseudorandom as computers cannot fully be chaotic; thus, they do their best to emulate chaotic systems by using aspects of truly chaotic events such as the number of milliseconds a key is pressed. An event that, while not random, is very hard to control. The second examples shows this. In addition to the random function (used below) this module has other functions such as randint and more."
      ],
      "metadata": {
        "id": "5dlhuAOTm-pb"
      }
    },
    {
      "cell_type": "code",
      "source": [
        "import math\n",
        "print(dir(math))"
      ],
      "metadata": {
        "colab": {
          "base_uri": "https://localhost:8080/"
        },
        "id": "qPbIWJzenfrl",
        "outputId": "4a05d75f-661f-4b6c-e376-ed130f165023"
      },
      "execution_count": 1,
      "outputs": [
        {
          "output_type": "stream",
          "name": "stdout",
          "text": [
            "['__doc__', '__loader__', '__name__', '__package__', '__spec__', 'acos', 'acosh', 'asin', 'asinh', 'atan', 'atan2', 'atanh', 'ceil', 'comb', 'copysign', 'cos', 'cosh', 'degrees', 'dist', 'e', 'erf', 'erfc', 'exp', 'expm1', 'fabs', 'factorial', 'floor', 'fmod', 'frexp', 'fsum', 'gamma', 'gcd', 'hypot', 'inf', 'isclose', 'isfinite', 'isinf', 'isnan', 'isqrt', 'lcm', 'ldexp', 'lgamma', 'log', 'log10', 'log1p', 'log2', 'modf', 'nan', 'nextafter', 'perm', 'pi', 'pow', 'prod', 'radians', 'remainder', 'sin', 'sinh', 'sqrt', 'tan', 'tanh', 'tau', 'trunc', 'ulp']\n"
          ]
        }
      ]
    },
    {
      "cell_type": "code",
      "source": [
        "import random\n",
        "\n",
        "for i in range(10): #0, 1, 2, 3, 4, 5, 6, 7, 8, 9 (stop when 10 is reached)\n",
        "  x = random.random()\n",
        "  print(x)"
      ],
      "metadata": {
        "colab": {
          "base_uri": "https://localhost:8080/"
        },
        "id": "pbvGUPlToX3W",
        "outputId": "199a3fd4-b37b-4f81-c8aa-a67bd1d39221"
      },
      "execution_count": 2,
      "outputs": [
        {
          "output_type": "stream",
          "name": "stdout",
          "text": [
            "0.6266251159774837\n",
            "0.10133146196037002\n",
            "0.15445535854794146\n",
            "0.7968074208179375\n",
            "0.37002520943363904\n",
            "0.38681592969725553\n",
            "0.5814972856707066\n",
            "0.6772924109257434\n",
            "0.6338393819624782\n",
            "0.9899067315673907\n"
          ]
        }
      ]
    },
    {
      "cell_type": "markdown",
      "source": [
        "## Adding new functions\n",
        "\n",
        "While it is generally best to import functions where possible (they are carefully designed to be efficient) this is not always possible. Thus, you can make and define your own functions."
      ],
      "metadata": {
        "id": "3uepPZZ5o1Tx"
      }
    },
    {
      "cell_type": "code",
      "source": [
        "def print_lyrics():\n",
        "  print(\"I'm a lumberjack, and I'm okay.\")\n",
        "  print('I sleep all night and I work all day.')\n",
        "print(print_lyrics) #This is printing what the function is (and where it is located?)\n",
        "print(type(print_lyrics)) #printing the type of the variable, which is a function type variable\n",
        "print_lyrics() #executes the function"
      ],
      "metadata": {
        "colab": {
          "base_uri": "https://localhost:8080/"
        },
        "id": "56s2Q1BTpIlK",
        "outputId": "07f76555-973f-41d4-9ed2-a86951023127"
      },
      "execution_count": 4,
      "outputs": [
        {
          "output_type": "stream",
          "name": "stdout",
          "text": [
            "<function print_lyrics at 0x79855824dab0>\n",
            "<class 'function'>\n"
          ]
        }
      ]
    },
    {
      "cell_type": "code",
      "source": [
        "def repeat_lyrics(): #note, no calling of functions needed here\n",
        "    print_lyrics() #executes the nested function once\n",
        "    print_lyrics() #executes again\n",
        "\n",
        "repeat_lyrics() #executes the main function"
      ],
      "metadata": {
        "colab": {
          "base_uri": "https://localhost:8080/"
        },
        "id": "cKDbWDNxp2fz",
        "outputId": "f7cfd085-26de-4788-d896-1113ad8930da"
      },
      "execution_count": 6,
      "outputs": [
        {
          "output_type": "stream",
          "name": "stdout",
          "text": [
            "I'm a lumberjack, and I'm okay.\n",
            "I sleep all night and I work all day.\n",
            "I'm a lumberjack, and I'm okay.\n",
            "I sleep all night and I work all day.\n"
          ]
        }
      ]
    },
    {
      "cell_type": "code",
      "source": [
        "def print_twice(bob): #inner name does not matter\n",
        "    print(bob)\n",
        "    print(bob)\n",
        "\n",
        "print_twice(\"Spam!\")"
      ],
      "metadata": {
        "colab": {
          "base_uri": "https://localhost:8080/"
        },
        "id": "iyssP4FCqQu1",
        "outputId": "64b08545-6832-4653-b239-de8b95b1e64a"
      },
      "execution_count": 15,
      "outputs": [
        {
          "output_type": "stream",
          "name": "stdout",
          "text": [
            "Spam!\n",
            "Spam!\n"
          ]
        }
      ]
    },
    {
      "cell_type": "code",
      "source": [
        "michael = 'Eric, the half a bee.'\n",
        "print_twice(michael)\n",
        "print(type(michael))"
      ],
      "metadata": {
        "colab": {
          "base_uri": "https://localhost:8080/"
        },
        "id": "YEXV0tOCrUO3",
        "outputId": "93ac03eb-4550-4d04-cee7-24fd1274777c"
      },
      "execution_count": 17,
      "outputs": [
        {
          "output_type": "stream",
          "name": "stdout",
          "text": [
            "Eric, the half a bee.\n",
            "Eric, the half a bee.\n",
            "<class 'str'>\n"
          ]
        }
      ]
    },
    {
      "cell_type": "markdown",
      "source": [
        "## Fruitful and Void functions\n",
        "\n",
        "Some functions return information (fruitful functions) while others just do a thing (void). the `print_twice` function didn't return anything, it just printed something twice.\n",
        "\n",
        "It is important to remember with fruitful functions that **unless you *do* something with the returned value (such as store it in a variable) the information is *lost***"
      ],
      "metadata": {
        "id": "p4AhkqsEr0_J"
      }
    },
    {
      "cell_type": "code",
      "source": [
        "math.sqrt(5) #math is already imported earlier in the code"
      ],
      "metadata": {
        "colab": {
          "base_uri": "https://localhost:8080/"
        },
        "id": "LcVW4xbOsd4i",
        "outputId": "81667b01-ca4f-4188-f728-f1b2a13fa0b5"
      },
      "execution_count": 18,
      "outputs": [
        {
          "output_type": "execute_result",
          "data": {
            "text/plain": [
              "2.23606797749979"
            ]
          },
          "metadata": {},
          "execution_count": 18
        }
      ]
    },
    {
      "cell_type": "markdown",
      "source": [
        "Here, we see a returned value in the output. However, we have no way of accessing that. Addiitonally, in a script, it would simply disappear unless we do something with it."
      ],
      "metadata": {
        "id": "lRUtRtDhsr9i"
      }
    },
    {
      "cell_type": "code",
      "source": [
        "x = math.sqrt(5)\n",
        "print(x)"
      ],
      "metadata": {
        "id": "8YHeH776s9OU",
        "outputId": "e77df7b6-2a1e-4417-b191-443a7c0dbfcb",
        "colab": {
          "base_uri": "https://localhost:8080/"
        }
      },
      "execution_count": 20,
      "outputs": [
        {
          "output_type": "stream",
          "name": "stdout",
          "text": [
            "2.23606797749979\n"
          ]
        }
      ]
    },
    {
      "cell_type": "markdown",
      "source": [
        "Similarly, while the `sqrt` function"
      ],
      "metadata": {
        "id": "zvGi76SotK1k"
      }
    }
  ]
}