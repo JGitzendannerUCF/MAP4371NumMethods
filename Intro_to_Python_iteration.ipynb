{
  "nbformat": 4,
  "nbformat_minor": 0,
  "metadata": {
    "colab": {
      "provenance": [],
      "authorship_tag": "ABX9TyMo3tEjMhUNynDBNJsjbX3l",
      "include_colab_link": true
    },
    "kernelspec": {
      "name": "python3",
      "display_name": "Python 3"
    },
    "language_info": {
      "name": "python"
    }
  },
  "cells": [
    {
      "cell_type": "markdown",
      "metadata": {
        "id": "view-in-github",
        "colab_type": "text"
      },
      "source": [
        "<a href=\"https://colab.research.google.com/github/JGitzendannerUCF/MAP4371NumMethods/blob/main/Intro_to_Python_iteration.ipynb\" target=\"_parent\"><img src=\"https://colab.research.google.com/assets/colab-badge.svg\" alt=\"Open In Colab\"/></a>"
      ]
    },
    {
      "cell_type": "markdown",
      "source": [
        "# **Iteration**\n",
        "\n",
        "1/10/24 Introduction to Python Lecture\n",
        "\n",
        "This notebook is intended to provide context to the code shared in class, as well as recompile everything from the summer into an easy to understand place.\n",
        "\n",
        "These notes will be made in jupyter notebooks, I want to figure out what Binder is and how to use it. For now this will work.\n",
        "\n",
        "Note: These notes are personal notes from class lectures, textbooks (namely Python 4 Everyone (Py4E)), and externally audited lectures given by Dr. Matt Gitzendanner."
      ],
      "metadata": {
        "id": "-7DRo44NQ3t0"
      }
    },
    {
      "cell_type": "markdown",
      "source": [
        "## Updating variables\n",
        "\n",
        "One shortcut for incrementing and decrementing variables is the `+=` and `-=` notation."
      ],
      "metadata": {
        "id": "JCf4JQpQQ-St"
      }
    },
    {
      "cell_type": "code",
      "source": [
        "x = 10\n",
        "x += 1\n",
        "print(f\"x has been incremented to {x}.\")\n",
        "x -= 1\n",
        "print(f\"x has been decremented to {x}.\")"
      ],
      "metadata": {
        "colab": {
          "base_uri": "https://localhost:8080/"
        },
        "id": "QmJ_x_7SQ9Zs",
        "outputId": "50952ab2-4d45-444e-d4e6-4976d60fca73"
      },
      "execution_count": 4,
      "outputs": [
        {
          "output_type": "stream",
          "name": "stdout",
          "text": [
            "x has been incremented to 11.\n",
            "x has been decremented to 10.\n"
          ]
        }
      ]
    },
    {
      "cell_type": "markdown",
      "source": [
        "## The `while` statement\n",
        "\n",
        "This is a basic while statement\n"
      ],
      "metadata": {
        "id": "QXnyIU4vhqa4"
      }
    },
    {
      "cell_type": "code",
      "source": [
        "n = 5\n",
        "while n > 0:\n",
        "  print(n)\n",
        "  n = n - 1\n",
        "print(\"blastoff!\")"
      ],
      "metadata": {
        "id": "WPGVoHHqjyGN",
        "outputId": "f63ece4b-a563-4542-8b4e-6b582673eab5",
        "colab": {
          "base_uri": "https://localhost:8080/"
        }
      },
      "execution_count": 5,
      "outputs": [
        {
          "output_type": "stream",
          "name": "stdout",
          "text": [
            "5\n",
            "4\n",
            "3\n",
            "2\n",
            "1\n",
            "blastoff!\n"
          ]
        }
      ]
    },
    {
      "cell_type": "markdown",
      "source": [
        "The rest of this section is similar to many other languages, including Bash!\n",
        "\n",
        "Lets compare the `for` loop for three common coding languages\n",
        "\n",
        "**Bash**\n",
        "\n",
        "```\n",
        "for i in {1..30}\n",
        "do\n",
        "  echo $i\n",
        "done\n",
        "```\n",
        "**Python**\n",
        "```\n",
        "for i in range(30):\n",
        "    print(i)\n",
        "```\n",
        "**C:**\n",
        "\n",
        "```\n",
        "for (i=1; i<30; i++)\n",
        "{\n",
        "  printf(\"%d\\n\", i);\n",
        "}\n",
        "```\n",
        "All do essentially the same thing. However, Bash is 1 indexed while Python is zero indexed and we are forcing C to be 1 indexed. This means Bash will print 1 - 30 inclusive, Python will print 0 - 29, and C will print 1 - 29.\n",
        "\n",
        "In general, python will be the easiest to read as that was the developer's intent.\n",
        "\n",
        "\n",
        "\n",
        "\n"
      ],
      "metadata": {
        "id": "hSgFrOfKkI3w"
      }
    },
    {
      "cell_type": "markdown",
      "source": [
        "## Counting and summing loops\n",
        "\n",
        "Common uses of loops\n",
        "\n",
        "Most texts mention initializing a variable ahead of the loop, running the loop, then looking at the new value afterword\n",
        "\n",
        "Here's what happens when you forget to initialize before the loop"
      ],
      "metadata": {
        "id": "aoRHd2XYlu-s"
      }
    },
    {
      "cell_type": "code",
      "source": [
        "# Example 1 of not initializing the variable ahead of time\n",
        "\n",
        "for itervar in [3, 41, 12, 9, 74, 15]:\n",
        "    total = total + itervar\n",
        "print('Total: ', total)"
      ],
      "metadata": {
        "id": "XAImIRLAnmth"
      },
      "execution_count": null,
      "outputs": []
    },
    {
      "cell_type": "markdown",
      "source": [
        "In this case `total` is not defined. In a language such as Bash, an undefined variable such as that would be used as a blank and interpereted it as a 0 to give the right number. This can be dangerous, however, so Python complains and requires the definition of `total`.\n",
        "\n",
        "This is dangerous, especially in Jupyter notebooks where I have already forgotten about the x being defined as 10 several cells above... thus doing the following could be disasterous."
      ],
      "metadata": {
        "id": "Zk2TE6S9noXZ"
      }
    },
    {
      "cell_type": "code",
      "source": [
        "# Example 2 of not initializing the variable ahead of time\n",
        "\n",
        "for itervar in [1, 2, 3]:\n",
        "    x = x + itervar #goes to next input in list\n",
        "print(f'Total: {x}')"
      ],
      "metadata": {
        "id": "rrljDh-loZep",
        "outputId": "9c52ab22-7ff9-4661-b153-d2e25729a242",
        "colab": {
          "base_uri": "https://localhost:8080/"
        }
      },
      "execution_count": 6,
      "outputs": [
        {
          "output_type": "stream",
          "name": "stdout",
          "text": [
            "Total: 16\n"
          ]
        }
      ]
    },
    {
      "cell_type": "markdown",
      "source": [
        "This is an example of what's called a **logic error**. Python happily did exactly what we asked (add 1, 2, 3); however, we forgot that x was already defined as 10.\n",
        "\n",
        "Within a notebook, all variables remain in memory until the kernel is restarted!"
      ],
      "metadata": {
        "id": "ubIu2HCeoobj"
      }
    }
  ]
}