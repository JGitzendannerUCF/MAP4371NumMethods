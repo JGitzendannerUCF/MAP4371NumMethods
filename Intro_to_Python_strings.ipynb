{
  "nbformat": 4,
  "nbformat_minor": 0,
  "metadata": {
    "colab": {
      "provenance": [],
      "authorship_tag": "ABX9TyPk6Xf+e6VNohkcdYm5z5s8",
      "include_colab_link": true
    },
    "kernelspec": {
      "name": "python3",
      "display_name": "Python 3"
    },
    "language_info": {
      "name": "python"
    }
  },
  "cells": [
    {
      "cell_type": "markdown",
      "metadata": {
        "id": "view-in-github",
        "colab_type": "text"
      },
      "source": [
        "<a href=\"https://colab.research.google.com/github/JGitzendannerUCF/MAP4371NumMethods/blob/main/Intro_to_Python_strings.ipynb\" target=\"_parent\"><img src=\"https://colab.research.google.com/assets/colab-badge.svg\" alt=\"Open In Colab\"/></a>"
      ]
    },
    {
      "cell_type": "markdown",
      "source": [
        "# **Strings**\n",
        "\n",
        "1/10/24 Introduction to Python Lecture\n",
        "\n",
        "This notebook is intended to provide context to the code shared in class, as well as recompile everything from the summer into an easy to understand place.\n",
        "\n",
        "These notes will be made in jupyter notebooks, I want to figure out what Binder is and how to use it. For now this will work.\n",
        "\n",
        "Note: These notes are personal notes from class lectures, textbooks (namely Python 4 Everyone (Py4E)), and externally audited lectures given by Dr. Matt Gitzendanner."
      ],
      "metadata": {
        "id": "0sRtCV1Zqahx"
      }
    },
    {
      "cell_type": "markdown",
      "source": [
        "## A string is a sequence\n",
        "\n",
        "### 0-indexing\n",
        "We have talked about python's zero indexing a lot. Easy to forget, try to remember and write code that tests itself to avoid \"off-by-one\" error."
      ],
      "metadata": {
        "id": "-nCe5FvAqs7o"
      }
    },
    {
      "cell_type": "code",
      "source": [
        "# Traversing through a string with a loop: while version\n",
        "fruit = 'banana'\n",
        "index = 0 #initialize outside of loop!\n",
        "while index < len(fruit): #while length of string fruit\n",
        "  letter = fruit[index] #index position in string fruit\n",
        "  print(index, \"-->\", letter)\n",
        "  index = index + 1"
      ],
      "metadata": {
        "colab": {
          "base_uri": "https://localhost:8080/"
        },
        "id": "ecy_NO9ArZ5i",
        "outputId": "8e9b1143-5483-4776-eb46-c95553bbe94e"
      },
      "execution_count": 1,
      "outputs": [
        {
          "output_type": "stream",
          "name": "stdout",
          "text": [
            "0 --> b\n",
            "1 --> a\n",
            "2 --> n\n",
            "3 --> a\n",
            "4 --> n\n",
            "5 --> a\n"
          ]
        }
      ]
    },
    {
      "cell_type": "code",
      "source": [
        "# For loop method\n",
        "\n",
        "fruit = 'banana'\n",
        "index = 0 #completely not needed, just wanted to have same output as above\n",
        "\n",
        "for char in fruit:\n",
        "  letter = char\n",
        "  print(index, \"-->\", letter)\n",
        "  index = index + 1 #completely not needed, just wanted to have same output as above"
      ],
      "metadata": {
        "colab": {
          "base_uri": "https://localhost:8080/"
        },
        "id": "SXGS1HFAsAyN",
        "outputId": "ba07aef7-7818-4e78-81df-9c40da14ba5c"
      },
      "execution_count": 2,
      "outputs": [
        {
          "output_type": "stream",
          "name": "stdout",
          "text": [
            "0 --> b\n",
            "1 --> a\n",
            "2 --> n\n",
            "3 --> a\n",
            "4 --> n\n",
            "5 --> a\n"
          ]
        }
      ]
    },
    {
      "cell_type": "markdown",
      "source": [
        "## String Slices\n",
        "\n",
        "Think of banana again....now think of it as an actual banana cut up into six slices of b|a|n|a|n|a... this is essentially slices. Each slice is basically a character. So taking that further, we can use this example from the book to select a range of slices"
      ],
      "metadata": {
        "id": "06RBTj-Osie8"
      }
    },
    {
      "cell_type": "code",
      "source": [
        "s = 'Monty Python'\n",
        "print(s[0:5])"
      ],
      "metadata": {
        "colab": {
          "base_uri": "https://localhost:8080/"
        },
        "id": "FtPLtcoNtaN4",
        "outputId": "bf75d688-4e3d-4f09-cd20-d7345ab6baf1"
      },
      "execution_count": 5,
      "outputs": [
        {
          "output_type": "stream",
          "name": "stdout",
          "text": [
            "Monty\n"
          ]
        }
      ]
    },
    {
      "cell_type": "code",
      "source": [
        "#more examples with banana\n",
        "\n",
        "s=\"BANANA\"\n",
        "print(\"1:\", s[0])\n",
        "print(\"2:\", s[1:3])\n",
        "print(\"3:\", s[3:])\n",
        "print(\"4:\", s[:2])\n",
        "print(\"5:\", s[-4:-2])\n",
        "print(\"6:\", s[-1])"
      ],
      "metadata": {
        "colab": {
          "base_uri": "https://localhost:8080/"
        },
        "id": "sQ0nYKRHtuxo",
        "outputId": "4aed7321-3fb0-4f62-96ad-92883fd5b7af"
      },
      "execution_count": 6,
      "outputs": [
        {
          "output_type": "stream",
          "name": "stdout",
          "text": [
            "1: B\n",
            "2: AN\n",
            "3: ANA\n",
            "4: BA\n",
            "5: NA\n",
            "6: A\n"
          ]
        }
      ]
    },
    {
      "cell_type": "markdown",
      "source": [
        "## Strings are immutable\n",
        "\n",
        "Strings (as with some other variable types) are immutable and cannot be changed.\n",
        "This example shows one way around this by making a new variable with the new string, but it may be easier to simply re-assign the variable."
      ],
      "metadata": {
        "id": "xNryMzkSt6QJ"
      }
    },
    {
      "cell_type": "code",
      "source": [
        "greeting = 'Hello, world!'\n",
        "\n",
        "greeting = 'J' + greeting[1:] #take greeting from slice one to the end!!\n",
        "print(greeting)"
      ],
      "metadata": {
        "colab": {
          "base_uri": "https://localhost:8080/"
        },
        "id": "lPuPXwp1v_kv",
        "outputId": "82508124-21d5-4457-ace4-3104e331d07f"
      },
      "execution_count": 10,
      "outputs": [
        {
          "output_type": "stream",
          "name": "stdout",
          "text": [
            "Jello, world!\n"
          ]
        }
      ]
    },
    {
      "cell_type": "markdown",
      "source": [
        "The example in the text handels this slightly differently by defining a new string `new_greeting` so that the original string `greeting` is unchanged. Our example completely erases the original string and replaces it with the new one."
      ],
      "metadata": {
        "id": "tsUL6pwKKquG"
      }
    },
    {
      "cell_type": "markdown",
      "source": [
        "## The `in` operator\n",
        "\n",
        "very handy bit of code"
      ],
      "metadata": {
        "id": "0cgFcpnPLAR0"
      }
    },
    {
      "cell_type": "code",
      "source": [
        "x = 'a'\n",
        "x in 'banana'\n",
        "#print(type(x)) #if you try to print something after, it goes away?"
      ],
      "metadata": {
        "colab": {
          "base_uri": "https://localhost:8080/"
        },
        "id": "7EmuXB4JLHOe",
        "outputId": "ddea9ba8-1920-4305-a4ed-be246e689592"
      },
      "execution_count": 6,
      "outputs": [
        {
          "output_type": "execute_result",
          "data": {
            "text/plain": [
              "True"
            ]
          },
          "metadata": {},
          "execution_count": 6
        }
      ]
    },
    {
      "cell_type": "code",
      "source": [
        "'z' in 'banana'"
      ],
      "metadata": {
        "colab": {
          "base_uri": "https://localhost:8080/"
        },
        "id": "h6WKybtzLLYe",
        "outputId": "a46b3428-391e-4ad6-d59c-c362fcd4973c"
      },
      "execution_count": 2,
      "outputs": [
        {
          "output_type": "execute_result",
          "data": {
            "text/plain": [
              "False"
            ]
          },
          "metadata": {},
          "execution_count": 2
        }
      ]
    },
    {
      "cell_type": "code",
      "source": [
        "# also works for mutlislice strings\n",
        "\n",
        "'Knights' in 'Go Knights, Charge On!'"
      ],
      "metadata": {
        "colab": {
          "base_uri": "https://localhost:8080/"
        },
        "id": "ZvZfn1ZxLnZo",
        "outputId": "bfd1beb5-002c-463b-e416-7d21bdc9d0da"
      },
      "execution_count": 7,
      "outputs": [
        {
          "output_type": "execute_result",
          "data": {
            "text/plain": [
              "True"
            ]
          },
          "metadata": {},
          "execution_count": 7
        }
      ]
    },
    {
      "cell_type": "code",
      "source": [
        "# case sensitive\n",
        "\n",
        "'knights' in 'Go Knights, Charge On!'"
      ],
      "metadata": {
        "colab": {
          "base_uri": "https://localhost:8080/"
        },
        "id": "ePgPtoirLxbf",
        "outputId": "b0131489-bd60-4989-e582-aecbffb47c8f"
      },
      "execution_count": 8,
      "outputs": [
        {
          "output_type": "execute_result",
          "data": {
            "text/plain": [
              "False"
            ]
          },
          "metadata": {},
          "execution_count": 8
        }
      ]
    },
    {
      "cell_type": "markdown",
      "source": [
        "## String methods\n",
        "**Important section, use Py4E for help**\n",
        "\n",
        "This is the introduction to the idea of Python *objects* and *methods*. Objects are instances of the class that defines them.\n",
        "\n",
        "The `dir` function can help you see what can be done to an object -- what methods it has."
      ],
      "metadata": {
        "id": "EmORzXT4NIGD"
      }
    },
    {
      "cell_type": "code",
      "source": [
        "stuff = 'Hello world!'\n",
        "print(type(stuff)) #what it is (a string)\n",
        "dir(stuff) #what you can do to it"
      ],
      "metadata": {
        "colab": {
          "base_uri": "https://localhost:8080/"
        },
        "id": "oERnpXtROl-v",
        "outputId": "86ffb102-1a02-4a57-b051-7d201ad185bf"
      },
      "execution_count": 9,
      "outputs": [
        {
          "output_type": "stream",
          "name": "stdout",
          "text": [
            "<class 'str'>\n"
          ]
        },
        {
          "output_type": "execute_result",
          "data": {
            "text/plain": [
              "['__add__',\n",
              " '__class__',\n",
              " '__contains__',\n",
              " '__delattr__',\n",
              " '__dir__',\n",
              " '__doc__',\n",
              " '__eq__',\n",
              " '__format__',\n",
              " '__ge__',\n",
              " '__getattribute__',\n",
              " '__getitem__',\n",
              " '__getnewargs__',\n",
              " '__gt__',\n",
              " '__hash__',\n",
              " '__init__',\n",
              " '__init_subclass__',\n",
              " '__iter__',\n",
              " '__le__',\n",
              " '__len__',\n",
              " '__lt__',\n",
              " '__mod__',\n",
              " '__mul__',\n",
              " '__ne__',\n",
              " '__new__',\n",
              " '__reduce__',\n",
              " '__reduce_ex__',\n",
              " '__repr__',\n",
              " '__rmod__',\n",
              " '__rmul__',\n",
              " '__setattr__',\n",
              " '__sizeof__',\n",
              " '__str__',\n",
              " '__subclasshook__',\n",
              " 'capitalize',\n",
              " 'casefold',\n",
              " 'center',\n",
              " 'count',\n",
              " 'encode',\n",
              " 'endswith',\n",
              " 'expandtabs',\n",
              " 'find',\n",
              " 'format',\n",
              " 'format_map',\n",
              " 'index',\n",
              " 'isalnum',\n",
              " 'isalpha',\n",
              " 'isascii',\n",
              " 'isdecimal',\n",
              " 'isdigit',\n",
              " 'isidentifier',\n",
              " 'islower',\n",
              " 'isnumeric',\n",
              " 'isprintable',\n",
              " 'isspace',\n",
              " 'istitle',\n",
              " 'isupper',\n",
              " 'join',\n",
              " 'ljust',\n",
              " 'lower',\n",
              " 'lstrip',\n",
              " 'maketrans',\n",
              " 'partition',\n",
              " 'removeprefix',\n",
              " 'removesuffix',\n",
              " 'replace',\n",
              " 'rfind',\n",
              " 'rindex',\n",
              " 'rjust',\n",
              " 'rpartition',\n",
              " 'rsplit',\n",
              " 'rstrip',\n",
              " 'split',\n",
              " 'splitlines',\n",
              " 'startswith',\n",
              " 'strip',\n",
              " 'swapcase',\n",
              " 'title',\n",
              " 'translate',\n",
              " 'upper',\n",
              " 'zfill']"
            ]
          },
          "metadata": {},
          "execution_count": 9
        }
      ]
    },
    {
      "cell_type": "code",
      "source": [
        "help(str.upper) #help provides a description of the \"thing\" or object inside"
      ],
      "metadata": {
        "colab": {
          "base_uri": "https://localhost:8080/"
        },
        "id": "TA6D99SbO0ch",
        "outputId": "533f9bd8-44c6-4c53-e148-5282b1ec8499"
      },
      "execution_count": 10,
      "outputs": [
        {
          "output_type": "stream",
          "name": "stdout",
          "text": [
            "Help on method_descriptor:\n",
            "\n",
            "upper(self, /)\n",
            "    Return a copy of the string converted to uppercase.\n",
            "\n"
          ]
        }
      ]
    },
    {
      "cell_type": "code",
      "source": [
        "word = 'banana'\n",
        "print(word.upper()) #take the string variable word, and perform the upper object to it"
      ],
      "metadata": {
        "colab": {
          "base_uri": "https://localhost:8080/"
        },
        "id": "e9CsZmSFPWDp",
        "outputId": "481a5dca-c268-4f9e-f277-e4d49eb6c774"
      },
      "execution_count": 11,
      "outputs": [
        {
          "output_type": "stream",
          "name": "stdout",
          "text": [
            "BANANA\n"
          ]
        }
      ]
    },
    {
      "cell_type": "code",
      "source": [
        "index = word.find('a')\n",
        "print(index) #index is finding the position of the requested slice"
      ],
      "metadata": {
        "colab": {
          "base_uri": "https://localhost:8080/"
        },
        "id": "n_sRfvhSPk0J",
        "outputId": "9c99ff30-5bf8-44dd-985c-f1c4347e9ae5"
      },
      "execution_count": 12,
      "outputs": [
        {
          "output_type": "stream",
          "name": "stdout",
          "text": [
            "1\n"
          ]
        }
      ]
    },
    {
      "cell_type": "code",
      "source": [
        "help(str.strip)"
      ],
      "metadata": {
        "colab": {
          "base_uri": "https://localhost:8080/"
        },
        "id": "V7luFSgEQIwE",
        "outputId": "2d5c8ffb-c8ed-4d65-b824-ccd26ad45c92"
      },
      "execution_count": 13,
      "outputs": [
        {
          "output_type": "stream",
          "name": "stdout",
          "text": [
            "Help on method_descriptor:\n",
            "\n",
            "strip(self, chars=None, /)\n",
            "    Return a copy of the string with leading and trailing whitespace removed.\n",
            "    \n",
            "    If chars is given and not None, remove characters in chars instead.\n",
            "\n"
          ]
        }
      ]
    },
    {
      "cell_type": "code",
      "source": [
        "line = '  Here we go  '\n",
        "line.strip()"
      ],
      "metadata": {
        "colab": {
          "base_uri": "https://localhost:8080/",
          "height": 35
        },
        "id": "qwaQTmQwQO4U",
        "outputId": "8d1ecafc-7aa3-4577-b5a5-49a2d07f473f"
      },
      "execution_count": 14,
      "outputs": [
        {
          "output_type": "execute_result",
          "data": {
            "text/plain": [
              "'Here we go'"
            ],
            "application/vnd.google.colaboratory.intrinsic+json": {
              "type": "string"
            }
          },
          "metadata": {},
          "execution_count": 14
        }
      ]
    },
    {
      "cell_type": "code",
      "source": [
        "# methods can be combined too\n",
        "# but order matters!!\n",
        "line = 'Here we go  '\n",
        "print(line.strip())\n",
        "print(line.startswith(\"h\"))\n",
        "print(line.lower().startswith(\"h\")) #this works\n",
        "# print(line.statswith(\"h\").lower()) #this doesn't"
      ],
      "metadata": {
        "colab": {
          "base_uri": "https://localhost:8080/"
        },
        "id": "FQCkMlC7QXY0",
        "outputId": "3834a017-9b38-41e9-a6a0-613429396a79"
      },
      "execution_count": 21,
      "outputs": [
        {
          "output_type": "stream",
          "name": "stdout",
          "text": [
            "Here we go\n",
            "False\n",
            "True\n"
          ]
        }
      ]
    },
    {
      "cell_type": "markdown",
      "source": [
        "## Format operator\n",
        "This still works, but we will find that the newer f-strings features in Python are easier to use. Here are some of the examples from this section re-written using f-strings."
      ],
      "metadata": {
        "id": "LLuSfFKJR6AH"
      }
    },
    {
      "cell_type": "code",
      "source": [
        "camels = 42\n",
        "f'{camels}'"
      ],
      "metadata": {
        "colab": {
          "base_uri": "https://localhost:8080/",
          "height": 35
        },
        "id": "26VuMq_MSImY",
        "outputId": "79231b56-388f-4eaa-d6b4-cf28ba0ea599"
      },
      "execution_count": 22,
      "outputs": [
        {
          "output_type": "execute_result",
          "data": {
            "text/plain": [
              "'42'"
            ],
            "application/vnd.google.colaboratory.intrinsic+json": {
              "type": "string"
            }
          },
          "metadata": {},
          "execution_count": 22
        }
      ]
    },
    {
      "cell_type": "code",
      "source": [
        "camels = 42\n",
        "f'I have spotted {camels} camels.'"
      ],
      "metadata": {
        "colab": {
          "base_uri": "https://localhost:8080/",
          "height": 35
        },
        "id": "fC94g7YUSZ1I",
        "outputId": "8abed5bd-19c5-4c4d-f73a-3ae83dc0afe7"
      },
      "execution_count": 23,
      "outputs": [
        {
          "output_type": "execute_result",
          "data": {
            "text/plain": [
              "'I have spotted 42 camels.'"
            ],
            "application/vnd.google.colaboratory.intrinsic+json": {
              "type": "string"
            }
          },
          "metadata": {},
          "execution_count": 23
        }
      ]
    },
    {
      "cell_type": "code",
      "source": [
        "years = 3\n",
        "count = .1\n",
        "species = 'camels'\n",
        "f'in {years} years I have spotted {count} {species}'"
      ],
      "metadata": {
        "colab": {
          "base_uri": "https://localhost:8080/",
          "height": 35
        },
        "id": "weDzVxsqSkcK",
        "outputId": "b9026712-07f7-4284-fa82-36049351a438"
      },
      "execution_count": 24,
      "outputs": [
        {
          "output_type": "execute_result",
          "data": {
            "text/plain": [
              "'in 3 years I have spotted 0.1 camels'"
            ],
            "application/vnd.google.colaboratory.intrinsic+json": {
              "type": "string"
            }
          },
          "metadata": {},
          "execution_count": 24
        }
      ]
    },
    {
      "cell_type": "markdown",
      "source": [
        "You can also do formatting such as controling number of decimals printed"
      ],
      "metadata": {
        "id": "Q6ITCoXvS7Y7"
      }
    },
    {
      "cell_type": "code",
      "source": [
        "import math\n",
        "print(f'The value of pi is: {math.pi}')\n",
        "print(f'The value of pi is approximately: {math.pi:.2f}')"
      ],
      "metadata": {
        "colab": {
          "base_uri": "https://localhost:8080/"
        },
        "id": "5z7UryybTBIq",
        "outputId": "251f0fe6-9488-4227-eddb-3d30319fa270"
      },
      "execution_count": 25,
      "outputs": [
        {
          "output_type": "stream",
          "name": "stdout",
          "text": [
            "The value of pi is: 3.141592653589793\n",
            "The value of pi is approximately: 3.14\n"
          ]
        }
      ]
    }
  ]
}