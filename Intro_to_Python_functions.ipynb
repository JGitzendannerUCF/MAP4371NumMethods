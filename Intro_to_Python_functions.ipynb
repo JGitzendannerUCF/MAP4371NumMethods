{
  "cells": [
    {
      "cell_type": "markdown",
      "metadata": {
        "id": "view-in-github",
        "colab_type": "text"
      },
      "source": [
        "<a href=\"https://colab.research.google.com/github/JGitzendannerUCF/MAP4371NumMethods/blob/main/Intro_to_Python_functions.ipynb\" target=\"_parent\"><img src=\"https://colab.research.google.com/assets/colab-badge.svg\" alt=\"Open In Colab\"/></a>"
      ]
    },
    {
      "cell_type": "markdown",
      "metadata": {
        "id": "3eicQgHXl5pS"
      },
      "source": [
        "# **Python Functions**\n",
        "\n",
        "## Functions\n",
        "\n",
        "1/10/24 Introduction to Python Lecture\n",
        "\n",
        "This notebook is intended to provide context to the code shared in class, as well as recompile everything from the summer into an easy to understand place.\n",
        "\n",
        "These notes will be made in jupyter notebooks, I want to figure out what Binder is and how to use it. For now this will work.\n",
        "\n",
        "Note: These notes are personal notes from class lectures, textbooks (namely Python 4 Everyone (Py4E)), and externally audited lectures given by Dr. Matt Gitzendanner."
      ]
    },
    {
      "cell_type": "markdown",
      "metadata": {
        "id": "HNtcA8rLmL1B"
      },
      "source": [
        "## Built in Functions\n",
        "One of the goals with python was to keep the main language (built in functions) very limited. Thus, you almost always need to import additional functions, and this is one of the best parts of Python. Different people need different functions; thus, rather than having a bloated language, people are allowed to import whatever modules they need."
      ]
    },
    {
      "cell_type": "markdown",
      "metadata": {
        "id": "5dlhuAOTm-pb"
      },
      "source": [
        "## Example modules\n",
        "\n",
        "Math is one of the most common modules in numerical methods to be imported. We can `import math` to use several functions. Using the following code we can view all of the functions in the module without seeing their values. We can also use the random number module as another example.\n",
        "\n",
        "These numbers are really pseudorandom as computers cannot fully be chaotic; thus, they do their best to emulate chaotic systems by using aspects of truly chaotic events such as the number of milliseconds a key is pressed. An event that, while not random, is very hard to control. The second examples shows this. In addition to the random function (used below) this module has other functions such as randint and more."
      ]
    },
    {
      "cell_type": "code",
      "execution_count": 7,
      "metadata": {
        "colab": {
          "base_uri": "https://localhost:8080/"
        },
        "id": "qPbIWJzenfrl",
        "outputId": "ff6736d9-1933-4ab9-e9a2-043254b959ed"
      },
      "outputs": [
        {
          "output_type": "stream",
          "name": "stdout",
          "text": [
            "['__doc__', '__loader__', '__name__', '__package__', '__spec__', 'acos', 'acosh', 'asin', 'asinh', 'atan', 'atan2', 'atanh', 'ceil', 'comb', 'copysign', 'cos', 'cosh', 'degrees', 'dist', 'e', 'erf', 'erfc', 'exp', 'expm1', 'fabs', 'factorial', 'floor', 'fmod', 'frexp', 'fsum', 'gamma', 'gcd', 'hypot', 'inf', 'isclose', 'isfinite', 'isinf', 'isnan', 'isqrt', 'lcm', 'ldexp', 'lgamma', 'log', 'log10', 'log1p', 'log2', 'modf', 'nan', 'nextafter', 'perm', 'pi', 'pow', 'prod', 'radians', 'remainder', 'sin', 'sinh', 'sqrt', 'tan', 'tanh', 'tau', 'trunc', 'ulp']\n"
          ]
        }
      ],
      "source": [
        "import math\n",
        "print(dir(math))"
      ]
    },
    {
      "cell_type": "code",
      "execution_count": null,
      "metadata": {
        "colab": {
          "base_uri": "https://localhost:8080/"
        },
        "id": "pbvGUPlToX3W",
        "outputId": "199a3fd4-b37b-4f81-c8aa-a67bd1d39221"
      },
      "outputs": [
        {
          "name": "stdout",
          "output_type": "stream",
          "text": [
            "0.6266251159774837\n",
            "0.10133146196037002\n",
            "0.15445535854794146\n",
            "0.7968074208179375\n",
            "0.37002520943363904\n",
            "0.38681592969725553\n",
            "0.5814972856707066\n",
            "0.6772924109257434\n",
            "0.6338393819624782\n",
            "0.9899067315673907\n"
          ]
        }
      ],
      "source": [
        "import random\n",
        "\n",
        "for i in range(10): #0, 1, 2, 3, 4, 5, 6, 7, 8, 9 (stop when 10 is reached)\n",
        "  x = random.random()\n",
        "  print(x)"
      ]
    },
    {
      "cell_type": "markdown",
      "metadata": {
        "id": "3uepPZZ5o1Tx"
      },
      "source": [
        "## Adding new functions\n",
        "\n",
        "While it is generally best to import functions where possible (they are carefully designed to be efficient) this is not always possible. Thus, you can make and define your own functions."
      ]
    },
    {
      "cell_type": "code",
      "execution_count": 2,
      "metadata": {
        "colab": {
          "base_uri": "https://localhost:8080/"
        },
        "id": "56s2Q1BTpIlK",
        "outputId": "2a8896f5-af4f-416a-b589-69caf5e1e930"
      },
      "outputs": [
        {
          "output_type": "stream",
          "name": "stdout",
          "text": [
            "<function print_lyrics at 0x7975543925f0>\n",
            "<class 'function'>\n",
            "I'm a lumberjack, and I'm okay.\n",
            "I sleep all night and I work all day.\n"
          ]
        }
      ],
      "source": [
        "def print_lyrics():\n",
        "  print(\"I'm a lumberjack, and I'm okay.\")\n",
        "  print('I sleep all night and I work all day.')\n",
        "print(print_lyrics) #This is printing what the function is (and where it is located?)\n",
        "print(type(print_lyrics)) #printing the type of the variable, which is a function type variable\n",
        "print_lyrics() #executes the function"
      ]
    },
    {
      "cell_type": "code",
      "execution_count": 3,
      "metadata": {
        "colab": {
          "base_uri": "https://localhost:8080/"
        },
        "id": "cKDbWDNxp2fz",
        "outputId": "100a8329-67bc-4c07-e47d-067f43ccbbb0"
      },
      "outputs": [
        {
          "output_type": "stream",
          "name": "stdout",
          "text": [
            "I'm a lumberjack, and I'm okay.\n",
            "I sleep all night and I work all day.\n",
            "I'm a lumberjack, and I'm okay.\n",
            "I sleep all night and I work all day.\n"
          ]
        }
      ],
      "source": [
        "def repeat_lyrics(): #note, no calling of functions needed here\n",
        "    print_lyrics() #executes the nested function once\n",
        "    print_lyrics() #executes again\n",
        "\n",
        "repeat_lyrics() #executes the main function"
      ]
    },
    {
      "cell_type": "code",
      "execution_count": 4,
      "metadata": {
        "colab": {
          "base_uri": "https://localhost:8080/"
        },
        "id": "iyssP4FCqQu1",
        "outputId": "2183f6c9-ad19-4099-a8ba-9b66ccea9920"
      },
      "outputs": [
        {
          "output_type": "stream",
          "name": "stdout",
          "text": [
            "Spam!\n",
            "Spam!\n"
          ]
        }
      ],
      "source": [
        "def print_twice(bob): #inner name does not matter\n",
        "    print(bob)\n",
        "    print(bob)\n",
        "\n",
        "print_twice(\"Spam!\")"
      ]
    },
    {
      "cell_type": "code",
      "execution_count": 5,
      "metadata": {
        "colab": {
          "base_uri": "https://localhost:8080/"
        },
        "id": "YEXV0tOCrUO3",
        "outputId": "04f8c7a1-361e-4685-9654-45febdb6c953"
      },
      "outputs": [
        {
          "output_type": "stream",
          "name": "stdout",
          "text": [
            "Eric, the half a bee.\n",
            "Eric, the half a bee.\n",
            "<class 'str'>\n"
          ]
        }
      ],
      "source": [
        "michael = 'Eric, the half a bee.'\n",
        "print_twice(michael)\n",
        "print(type(michael))"
      ]
    },
    {
      "cell_type": "markdown",
      "metadata": {
        "id": "p4AhkqsEr0_J"
      },
      "source": [
        "## Fruitful and Void functions\n",
        "\n",
        "Some functions return information (fruitful functions) while others just do a thing (void). the `print_twice` function didn't return anything, it just printed something twice.\n",
        "\n",
        "It is important to remember with fruitful functions that **unless you *do* something with the returned value (such as store it in a variable) the information is *lost***"
      ]
    },
    {
      "cell_type": "code",
      "execution_count": 13,
      "metadata": {
        "colab": {
          "base_uri": "https://localhost:8080/"
        },
        "id": "LcVW4xbOsd4i",
        "outputId": "9f937d84-4d78-4819-f272-b4225f62b1c2"
      },
      "outputs": [
        {
          "output_type": "stream",
          "name": "stdout",
          "text": [
            "2.23606797749979\n"
          ]
        }
      ],
      "source": [
        "x=math.sqrt(5)\n",
        "print(x)"
      ]
    },
    {
      "cell_type": "markdown",
      "source": [
        "Additionally, while the `sqrt` function returns something, not all functions return anything. So assigning the return value may give **None**"
      ],
      "metadata": {
        "id": "CaRMJ5LSONgR"
      }
    },
    {
      "cell_type": "code",
      "source": [
        "lyrics=print_lyrics()\n",
        "print(\"_____________\")\n",
        "print(lyrics) #returns nothing as print_lyrics is a void function and thus has nothing to return"
      ],
      "metadata": {
        "colab": {
          "base_uri": "https://localhost:8080/"
        },
        "id": "JnKPYmf_OW82",
        "outputId": "e829f1cf-fca6-421d-a797-ef3d4614801c"
      },
      "execution_count": 14,
      "outputs": [
        {
          "output_type": "stream",
          "name": "stdout",
          "text": [
            "I'm a lumberjack, and I'm okay.\n",
            "I sleep all night and I work all day.\n",
            "_____________\n",
            "None\n"
          ]
        }
      ]
    },
    {
      "cell_type": "markdown",
      "source": [
        "Here, the first two lines are the output of calling the `print_lyrics` function. The variable lyrics; however, has the value of None as the `print_lyrics` function is not designed to give it a value. None is it's own variable type and ***not*** the same as \"0\" or undefined."
      ],
      "metadata": {
        "id": "nils1lIfPKGO"
      }
    },
    {
      "cell_type": "code",
      "source": [
        "type(None)"
      ],
      "metadata": {
        "colab": {
          "base_uri": "https://localhost:8080/"
        },
        "id": "90ufntb4Ph_a",
        "outputId": "526dc467-1613-468d-a722-c8cab7d03004"
      },
      "execution_count": 15,
      "outputs": [
        {
          "output_type": "execute_result",
          "data": {
            "text/plain": [
              "NoneType"
            ]
          },
          "metadata": {},
          "execution_count": 15
        }
      ]
    }
  ],
  "metadata": {
    "colab": {
      "provenance": [],
      "authorship_tag": "ABX9TyPCWepEY4zA52d+NXs6dMSi",
      "include_colab_link": true
    },
    "kernelspec": {
      "display_name": "Python 3",
      "name": "python3"
    },
    "language_info": {
      "name": "python"
    }
  },
  "nbformat": 4,
  "nbformat_minor": 0
}