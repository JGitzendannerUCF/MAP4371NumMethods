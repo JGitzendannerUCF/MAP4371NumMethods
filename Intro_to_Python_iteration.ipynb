{
  "nbformat": 4,
  "nbformat_minor": 0,
  "metadata": {
    "colab": {
      "provenance": [],
      "authorship_tag": "ABX9TyOJYnZWQe5u/RwF5o/1H4hE",
      "include_colab_link": true
    },
    "kernelspec": {
      "name": "python3",
      "display_name": "Python 3"
    },
    "language_info": {
      "name": "python"
    }
  },
  "cells": [
    {
      "cell_type": "markdown",
      "metadata": {
        "id": "view-in-github",
        "colab_type": "text"
      },
      "source": [
        "<a href=\"https://colab.research.google.com/github/JGitzendannerUCF/MAP4371NumMethods/blob/main/Intro_to_Python_iteration.ipynb\" target=\"_parent\"><img src=\"https://colab.research.google.com/assets/colab-badge.svg\" alt=\"Open In Colab\"/></a>"
      ]
    },
    {
      "cell_type": "markdown",
      "source": [
        "# **Iteration**\n",
        "\n",
        "1/10/24 Introduction to Python Lecture\n",
        "\n",
        "This notebook is intended to provide context to the code shared in class, as well as recompile everything from the summer into an easy to understand place.\n",
        "\n",
        "These notes will be made in jupyter notebooks, I want to figure out what Binder is and how to use it. For now this will work.\n",
        "\n",
        "Note: These notes are personal notes from class lectures, textbooks (namely Python 4 Everyone (Py4E)), and externally audited lectures given by Dr. Matt Gitzendanner."
      ],
      "metadata": {
        "id": "-7DRo44NQ3t0"
      }
    },
    {
      "cell_type": "markdown",
      "source": [
        "## Updating variables\n",
        "\n",
        "One shortcut for incrementing and decrementing variables is the `+=` and `-=` notation."
      ],
      "metadata": {
        "id": "JCf4JQpQQ-St"
      }
    },
    {
      "cell_type": "code",
      "source": [
        "x = 10\n",
        "x += 1\n",
        "print(f\"x has been incremented to {x}.\")\n",
        "x -= 1\n",
        "print(f\"x has been decremented to {x}.\")"
      ],
      "metadata": {
        "colab": {
          "base_uri": "https://localhost:8080/"
        },
        "id": "QmJ_x_7SQ9Zs",
        "outputId": "a7720a76-287b-4d29-8217-f837cae668c8"
      },
      "execution_count": 6,
      "outputs": [
        {
          "output_type": "stream",
          "name": "stdout",
          "text": [
            "x has been incremented to 11.\n",
            "x has been decremented to 10.\n"
          ]
        }
      ]
    }
  ]
}