{
  "nbformat": 4,
  "nbformat_minor": 0,
  "metadata": {
    "colab": {
      "provenance": [],
      "authorship_tag": "ABX9TyN1qEpnpXopurHiGAAnCKuO",
      "include_colab_link": true
    },
    "kernelspec": {
      "name": "python3",
      "display_name": "Python 3"
    },
    "language_info": {
      "name": "python"
    }
  },
  "cells": [
    {
      "cell_type": "markdown",
      "metadata": {
        "id": "view-in-github",
        "colab_type": "text"
      },
      "source": [
        "<a href=\"https://colab.research.google.com/github/JGitzendannerUCF/MAP4371NumMethods/blob/main/Intro_to_Python.ipynb\" target=\"_parent\"><img src=\"https://colab.research.google.com/assets/colab-badge.svg\" alt=\"Open In Colab\"/></a>"
      ]
    },
    {
      "cell_type": "markdown",
      "source": [
        "### **Introduction to Python and Jupyter Notebooks**\n",
        "\n",
        "1/10/24 Introduction to Python Lecture\n",
        "\n",
        "This notebook is intended to provide context to the code shared in class, as well as recompile everything from the summer into an easy to understand place.\n",
        "\n",
        "These notes will be made in jupyter notebooks, I want to figure out what Binder is and how to use it. For now this will work.\n",
        "\n",
        "Note: These notes are personal notes from class lectures, textbooks (namely Python 4 Everyone (Py4E)), and externally audited lectures given by Dr. Matt Gitzendanner."
      ],
      "metadata": {
        "id": "8lkXLc6D95wy"
      }
    },
    {
      "cell_type": "markdown",
      "source": [
        "## Variables in Python\n",
        "\n",
        "Python uses *implicit typing* of variables, as opposed to the *explicit typing* found in C where users must declare a variable type. Implicit typing is sometimes known as \"duck typing\" due to the saying \"if it looks like a duck, and talks like a duck, then it is a duck\".\n",
        "\n",
        "This means you don't entirely need to think of type when declaring a variable, but do in a way as different types can do different things."
      ],
      "metadata": {
        "id": "1CIhIVuN_32n"
      }
    },
    {
      "cell_type": "code",
      "source": [
        "# Variable Type\n",
        "a = 'Hello, World!'\n",
        "print(type(a))\n",
        "print(a)\n",
        "print(type(17))\n",
        "print(type(1.7))"
      ],
      "metadata": {
        "colab": {
          "base_uri": "https://localhost:8080/"
        },
        "id": "gtNdBftyBkQa",
        "outputId": "90bd7ef8-d71f-407a-f06b-4f929c9910d3"
      },
      "execution_count": null,
      "outputs": [
        {
          "output_type": "stream",
          "name": "stdout",
          "text": [
            "<class 'str'>\n",
            "Hello, World!\n",
            "<class 'int'>\n",
            "<class 'float'>\n"
          ]
        }
      ]
    },
    {
      "cell_type": "markdown",
      "source": [
        "Common types and examples\n",
        "| Type | Example |\n",
        "| ----- | ----- |\n",
        "| Integer | 12 |\n",
        "| Float | 2.78 |\n",
        "| Boolean | True |\n",
        "| String | Hello |\n",
        "| List | [1,4,\"Hello\",5] |"
      ],
      "metadata": {
        "id": "jgIRWzX3CHdN"
      }
    },
    {
      "cell_type": "markdown",
      "source": [
        "## Declaring variables\n",
        "\n",
        "Python syntax is mroe forgiving of some errors such as spaces around = when declaring a variable. General convention is to write it as ```x = 7``` however, it will still work regardless.\n"
      ],
      "metadata": {
        "id": "yPIlEMO-Ejqs"
      }
    },
    {
      "cell_type": "code",
      "source": [
        "# From 2.2 Variables; p. 20 of Py4E\n",
        "message = 'And now for something completely different'\n",
        "n = 17\n",
        "pi = 3.1415926535897931"
      ],
      "metadata": {
        "id": "ty3fZIXtEwcq"
      },
      "execution_count": null,
      "outputs": []
    },
    {
      "cell_type": "code",
      "source": [
        "# note: colab keeps variables through the document in chronological order\n",
        "print(message)\n",
        "print(n)\n",
        "print(\"Pi is:\", pi)"
      ],
      "metadata": {
        "colab": {
          "base_uri": "https://localhost:8080/"
        },
        "id": "x7VlTUvHF1FS",
        "outputId": "5059e0ed-89d9-4bbd-fea1-82d3a7cb7e9c"
      },
      "execution_count": null,
      "outputs": [
        {
          "output_type": "stream",
          "name": "stdout",
          "text": [
            "And now for something completely different\n",
            "17\n",
            "Pi is: 3.141592653589793\n"
          ]
        }
      ]
    },
    {
      "cell_type": "markdown",
      "source": [
        "With nothing to specifically specify a variable, as some languages (*ahem* bash) have, some things don't work as quite as usual...\n",
        "For example, in Bash we could do this\n",
        "```\n",
        "[jdgitz@login4 ~]$ pi=3.14\n",
        "[jdgitz@login4 ~]$ echo \"Pi is $pi\"\n",
        "Pi is: 3.14\n",
        "```\n",
        "Doing this in python yeilds the following"
      ],
      "metadata": {
        "id": "kPtIRfb_H0Lu"
      }
    },
    {
      "cell_type": "code",
      "source": [
        "print(\"Pi is: pi\") #note pi is already defined above"
      ],
      "metadata": {
        "colab": {
          "base_uri": "https://localhost:8080/"
        },
        "id": "zi_woE8jIoy7",
        "outputId": "048f52ba-db18-41a3-b658-a0be731b45c0"
      },
      "execution_count": null,
      "outputs": [
        {
          "output_type": "stream",
          "name": "stdout",
          "text": [
            "Pi is: pi\n"
          ]
        }
      ]
    },
    {
      "cell_type": "markdown",
      "source": [
        "Here are some methods for fixing this. (many more methods exist, but for the sake of brevity, these three are shown)"
      ],
      "metadata": {
        "id": "W3jfDT5KIyMY"
      }
    },
    {
      "cell_type": "code",
      "source": [
        "print(\"Pi is:\", pi) #Maybe the most traditional way. Can get complex with many variables\n",
        "print(\"Pi is: %s\" %(pi)) # Format specifiers: each specifier is replaced with the value of the variables in the order listed at the end.\n",
        "print(f\"Pi is: {pi}\")  # The new \"f-strings\" format in Python 3.6 and above."
      ],
      "metadata": {
        "colab": {
          "base_uri": "https://localhost:8080/"
        },
        "id": "bvynIP4sI2Tl",
        "outputId": "d2fbe8b9-3b9e-4633-cd0b-1522d04f7184"
      },
      "execution_count": null,
      "outputs": [
        {
          "output_type": "stream",
          "name": "stdout",
          "text": [
            "Pi is: 3.141592653589793\n",
            "Pi is: 3.141592653589793\n",
            "Pi is: 3.141592653589793\n"
          ]
        }
      ]
    },
    {
      "cell_type": "code",
      "source": [
        "#to modify for adding more variables in...\n",
        "print(\"Pis is:\", pi, \". The value of n is:\", n) #closing quotes and commas deliniate\n",
        "print(\"Pi is: %s. The value of n is: %d\" %(pi, n)) #% used to deliniate, works with some letters?\n",
        "print(f\"Pi is: {pi}. The value of n is: {n}\") #curly brackets deliniate"
      ],
      "metadata": {
        "colab": {
          "base_uri": "https://localhost:8080/"
        },
        "id": "VnSenF3nJd0c",
        "outputId": "e68337ac-1608-43ef-fa28-3b81dc6a5c76"
      },
      "execution_count": null,
      "outputs": [
        {
          "output_type": "stream",
          "name": "stdout",
          "text": [
            "Pis is: 3.141592653589793 . The value of n is: 17\n",
            "Pi is: 3.141592653589793. The value of n is: 17\n",
            "Pi is: 3.141592653589793. The value of n is: 17\n"
          ]
        }
      ]
    },
    {
      "cell_type": "markdown",
      "source": [
        "## Asking for user input\n",
        "Here are a few examples for how to use the input() function"
      ],
      "metadata": {
        "id": "fTO4FPuHLCkt"
      }
    },
    {
      "cell_type": "code",
      "source": [
        "inp=input()\n",
        "print(inp) #for some reason printing twice?"
      ],
      "metadata": {
        "colab": {
          "base_uri": "https://localhost:8080/"
        },
        "id": "jVLhaHCWLNRk",
        "outputId": "256cdaa2-8d3e-48bd-d45c-903e3fbc4313"
      },
      "execution_count": null,
      "outputs": [
        {
          "output_type": "stream",
          "name": "stdout",
          "text": [
            "this is a test\n",
            "this is a test\n"
          ]
        }
      ]
    },
    {
      "cell_type": "code",
      "source": [
        "name = input('What is your name?\\n')\n",
        "print('Hi', name,\", nice to meet you!\")"
      ],
      "metadata": {
        "colab": {
          "base_uri": "https://localhost:8080/"
        },
        "id": "UmtdzBEbLlJb",
        "outputId": "1c5ed9fb-e73d-458c-9087-36bbfae6271e"
      },
      "execution_count": null,
      "outputs": [
        {
          "output_type": "stream",
          "name": "stdout",
          "text": [
            "What is your name?\n",
            "Jonathan\n",
            "Hi Jonathan , nce to meet you!\n"
          ]
        }
      ]
    },
    {
      "cell_type": "markdown",
      "source": [
        "Note: `print()` puts spaces between the things we told it to. This can be controlled, we just need to add that control"
      ],
      "metadata": {
        "id": "LibcoeOTMENW"
      }
    },
    {
      "cell_type": "code",
      "source": [
        "name = input('What is your name?\\n')\n",
        "print(\"Hi\", name,\", nice to meet you!\", sep=\"\")"
      ],
      "metadata": {
        "colab": {
          "base_uri": "https://localhost:8080/"
        },
        "id": "TSlWnBqOMZCG",
        "outputId": "85931418-4f71-4b60-991d-6f64152ccc8f"
      },
      "execution_count": null,
      "outputs": [
        {
          "output_type": "stream",
          "name": "stdout",
          "text": [
            "What is your name?\n",
            "Jonathan\n",
            "HiJonathan, nice to meet you!\n"
          ]
        }
      ]
    },
    {
      "cell_type": "code",
      "source": [
        "prompt = 'What is the airspeed velocity of an unladen swallow'\n",
        "speed = input(prompt)\n",
        "#int(speed) #must be an integer\n",
        "print(speed) #Can be any varType"
      ],
      "metadata": {
        "colab": {
          "base_uri": "https://localhost:8080/"
        },
        "id": "q_JvotKF6jcD",
        "outputId": "c5cae806-2f1f-4ccc-b0c1-d88341e0f018"
      },
      "execution_count": null,
      "outputs": [
        {
          "output_type": "stream",
          "name": "stdout",
          "text": [
            "What is the airspeed velocity of an unladen swallowEuropean or African?\n",
            "European or African?\n"
          ]
        }
      ]
    }
  ]
}
