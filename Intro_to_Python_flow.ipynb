{
  "nbformat": 4,
  "nbformat_minor": 0,
  "metadata": {
    "colab": {
      "provenance": [],
      "authorship_tag": "ABX9TyNrugI6Uh+9azoZcbzURWQ/",
      "include_colab_link": true
    },
    "kernelspec": {
      "name": "python3",
      "display_name": "Python 3"
    },
    "language_info": {
      "name": "python"
    }
  },
  "cells": [
    {
      "cell_type": "markdown",
      "metadata": {
        "id": "view-in-github",
        "colab_type": "text"
      },
      "source": [
        "<a href=\"https://colab.research.google.com/github/JGitzendannerUCF/MAP4371NumMethods/blob/main/Intro_to_Python_flow.ipynb\" target=\"_parent\"><img src=\"https://colab.research.google.com/assets/colab-badge.svg\" alt=\"Open In Colab\"/></a>"
      ]
    },
    {
      "cell_type": "markdown",
      "source": [
        "# **Intro to Python**\n",
        "### Flow Control\n",
        "\n",
        "1/10/24 Introduction to Python Lecture\n",
        "\n",
        "This notebook is intended to provide context to the code shared in class, as well as recompile everything from the summer into an easy to understand place.\n",
        "\n",
        "These notes will be made in jupyter notebooks, I want to figure out what Binder is and how to use it. For now this will work.\n",
        "\n",
        "Note: These notes are personal notes from class lectures, textbooks (namely Python 4 Everyone (Py4E)), and externally audited lectures given by Dr. Matt Gitzendanner."
      ],
      "metadata": {
        "id": "9W6J1D-p8s8A"
      }
    },
    {
      "cell_type": "markdown",
      "source": [
        "## **if statements**\n",
        "The first basic block of coding is the ```if``` statement.\n",
        "\n",
        "Python's main emphasis is readability. Many languages encourage indentation in code to assist with this; however, python requires this. Thus, indentation level (rather than brackets, \"if...fi\", or \"do...done\") defines the boundaries of the statement."
      ],
      "metadata": {
        "id": "oTKfjDhU9Kkw"
      }
    },
    {
      "cell_type": "code",
      "source": [
        "#example\n",
        "x = 5\n",
        "if x > 0 :\n",
        "  print(\"x is positive\")"
      ],
      "metadata": {
        "colab": {
          "base_uri": "https://localhost:8080/"
        },
        "id": "cxsDZJuD-Ekg",
        "outputId": "f5f10ca5-c79b-4a1e-c4fd-81708a773248"
      },
      "execution_count": null,
      "outputs": [
        {
          "output_type": "stream",
          "name": "stdout",
          "text": [
            "x is positive\n"
          ]
        }
      ]
    },
    {
      "cell_type": "code",
      "source": [
        "# The % is the modulus operator, it retrieves the remainder from division\n",
        "\n",
        "if x%2 == 0 :\n",
        "  print('x is even')\n",
        "else :\n",
        "  print('x is odd')"
      ],
      "metadata": {
        "colab": {
          "base_uri": "https://localhost:8080/"
        },
        "id": "t8o4wYfc-S2g",
        "outputId": "c11956c3-3daa-4358-8145-66db2ecbd6d9"
      },
      "execution_count": null,
      "outputs": [
        {
          "output_type": "stream",
          "name": "stdout",
          "text": [
            "x is odd\n"
          ]
        }
      ]
    },
    {
      "cell_type": "code",
      "source": [
        "y = 10\n",
        "\n",
        "if x < y:\n",
        "  print('x is less than y')\n",
        "elif x > y:  #can be seen as a continuation if\n",
        "  print('x is greater than y')\n",
        "else:\n",
        "  print('x and y are equal')"
      ],
      "metadata": {
        "colab": {
          "base_uri": "https://localhost:8080/"
        },
        "id": "QgPIknOn-pbh",
        "outputId": "602370fc-f42a-4581-d27a-faa9572c9bb5"
      },
      "execution_count": null,
      "outputs": [
        {
          "output_type": "stream",
          "name": "stdout",
          "text": [
            "x is less than y\n"
          ]
        }
      ]
    },
    {
      "cell_type": "markdown",
      "source": [
        "the ```else``` statement is not specifically needed either."
      ],
      "metadata": {
        "id": "aWos_QYp_EPb"
      }
    },
    {
      "cell_type": "code",
      "source": [
        "choice = \"d\"\n",
        "if choice == 'a': #don't forget the colon\n",
        "  print('Bad guess')\n",
        "elif choice == 'b':\n",
        "  print('Good guess')\n",
        "elif choice == 'c':\n",
        "  print('Close, but not correct')\n",
        "\n",
        "print(\"Moving on\")"
      ],
      "metadata": {
        "colab": {
          "base_uri": "https://localhost:8080/"
        },
        "id": "ZC2Saprm_OnI",
        "outputId": "212425de-6e3d-4bc4-91dd-0f8de4ea67b5"
      },
      "execution_count": null,
      "outputs": [
        {
          "output_type": "stream",
          "name": "stdout",
          "text": [
            "Moving on\n"
          ]
        }
      ]
    },
    {
      "cell_type": "markdown",
      "source": [
        "An important note for chained conditionals is that as soon as one condition is true, the branch ends. Therefore, even if multiple are true, as is the case below, only one will execute."
      ],
      "metadata": {
        "id": "nGLQ5aOVAPWv"
      }
    },
    {
      "cell_type": "code",
      "source": [
        " number = 23 # use CTRL / to toggle commenting\n",
        "running = True\n",
        "while running:\n",
        "  guess = int(input('Enter an integer : '))\n",
        "  if guess == number:\n",
        "    print('Congratulations, you guessed it.')\n",
        "    running = False\n",
        "  elif guess <= number: #note, a guess of 23 would technically satisfy this; however it is after the \"==\" statement\n",
        "    print('No, it is a little higher than that.')\n",
        "  else:\n",
        "    print('No, it is a little lower than that.')\n",
        " else:\n",
        "    print('The while loop is over.')\n",
        "print('Done')"
      ],
      "metadata": {
        "id": "emJcM2AGAdXV"
      },
      "execution_count": null,
      "outputs": []
    },
    {
      "cell_type": "markdown",
      "source": [
        "When coding it is bes to avoid complex nesting"
      ],
      "metadata": {
        "id": "9FfWCL-zCIf1"
      }
    },
    {
      "cell_type": "markdown",
      "source": [
        "## Catching exceptions using try and except\n",
        "\n",
        "It is **highly** recommended that you add try and except liberally to your code. This will help cause meaningful error messages and options to continue rather than Python errors which make little to no sense."
      ],
      "metadata": {
        "id": "zWrLnOgHCO7l"
      }
    },
    {
      "cell_type": "code",
      "source": [
        "inp = input('Enter Fahrenheit Temperature:')\n",
        "print(type(inp)) # This is why you MUST have float specification\n",
        "try:\n",
        "  fahr = float(inp) #must have float specification\n",
        "  cel = (fahr - 32.0) * 5.0 / 9.0\n",
        "  print (cel)\n",
        "except:\n",
        "  print('Please enter a number')"
      ],
      "metadata": {
        "colab": {
          "base_uri": "https://localhost:8080/"
        },
        "id": "tYw87uU_CpXu",
        "outputId": "9bee049e-5f48-488f-b922-3f04e8d791ea"
      },
      "execution_count": null,
      "outputs": [
        {
          "output_type": "stream",
          "name": "stdout",
          "text": [
            "Enter Fahrenheit Temperature:2\n",
            "<class 'str'>\n",
            "-16.666666666666668\n"
          ]
        }
      ]
    },
    {
      "cell_type": "markdown",
      "source": [
        "### Recovering from exceptions\n",
        "\n",
        "This will be one way to try again if the user doesn't enter a number. `while True:` is used a lot and True is *always* True. It may seem odd to use as flow control; however, adding `break` will break out of the `while` loop."
      ],
      "metadata": {
        "id": "2f_ioB3WgbMq"
      }
    },
    {
      "cell_type": "code",
      "source": [
        "while True:\n",
        "  inp = input('Enter Fahrenheit Temperaure:')\n",
        "  try:\n",
        "    fahr = float(inp)\n",
        "    cel = (fahr - 32.0) * 5.0 / 9.0\n",
        "    print (cel)\n",
        "    break #Add the break here to exit while after success\n",
        "  except:\n",
        "    print('Please enter a number')\n",
        "\n",
        "print('Done')"
      ],
      "metadata": {
        "colab": {
          "base_uri": "https://localhost:8080/"
        },
        "id": "cLtNLFqWhAj4",
        "outputId": "57a25bea-e168-4625-a626-eb305d27b6b1"
      },
      "execution_count": 4,
      "outputs": [
        {
          "output_type": "stream",
          "name": "stdout",
          "text": [
            "Enter Fahrenheit Temperaure:two\n",
            "Please enter a number\n",
            "Enter Fahrenheit Temperaure:three\n",
            "Please enter a number\n",
            "Enter Fahrenheit Temperaure:2.2\n",
            "-16.555555555555557\n",
            "Done\n"
          ]
        }
      ]
    },
    {
      "cell_type": "markdown",
      "source": [
        "## Flow control: *assert*\n",
        "\n",
        "Assert works like a simplified if statement and can be used to catch bugs."
      ],
      "metadata": {
        "id": "fo25E7rDhsut"
      }
    },
    {
      "cell_type": "code",
      "source": [
        "Answer = 5\n",
        "\n",
        "while True:\n",
        "  inp = input('What is 2+3:')\n",
        "  try:\n",
        "    int(inp) # make sure that it is a number\n",
        "    break #again with the break to recover\n",
        "  except:\n",
        "    print('Please Enter a Number')\n",
        "\n",
        "assert int(inp) == Answer, \"Are you sure you are human?\" # above determined it is a numeric answer, this checks it and throws error if wrong\n",
        "\n",
        "print('Welcome human!')"
      ],
      "metadata": {
        "colab": {
          "base_uri": "https://localhost:8080/"
        },
        "id": "Mr3hDqJMh_5W",
        "outputId": "c97cfd3f-449c-4ced-d314-7148f01a76da"
      },
      "execution_count": 7,
      "outputs": [
        {
          "output_type": "stream",
          "name": "stdout",
          "text": [
            "What is 2+3:five\n",
            "Please Enter a Number\n",
            "What is 2+3:5\n",
            "Welcome human!\n"
          ]
        }
      ]
    },
    {
      "cell_type": "markdown",
      "source": [
        "## Flow control: *while* and *for*\n",
        "\n",
        "While and For loops are major building blocks. Remember that python is zero indexed."
      ],
      "metadata": {
        "id": "Q29Fk4hmi-Sw"
      }
    },
    {
      "cell_type": "code",
      "source": [
        "n = 5\n",
        "while n > 0:\n",
        "  print(n)\n",
        "  n=n-1\n",
        "\n",
        "print(\"Blastoff!\")"
      ],
      "metadata": {
        "colab": {
          "base_uri": "https://localhost:8080/"
        },
        "id": "o7_FsdyAjL05",
        "outputId": "a2ad03bc-d42b-4c4b-af73-8a4c5be0cfa2"
      },
      "execution_count": 8,
      "outputs": [
        {
          "output_type": "stream",
          "name": "stdout",
          "text": [
            "5\n",
            "4\n",
            "3\n",
            "2\n",
            "1\n",
            "Blastoff!\n"
          ]
        }
      ]
    },
    {
      "cell_type": "code",
      "source": [
        "# From Py4E section 5.6, p. 60 of PDF\n",
        "\n",
        "friends = ['Joseph', 'Glenn','Sally']\n",
        "for friend in friends: #plural naming doesn't really matter, just readability\n",
        "  print('Happy New Year:', friend)\n",
        "print('Done!')"
      ],
      "metadata": {
        "colab": {
          "base_uri": "https://localhost:8080/"
        },
        "id": "S1mekdr1jX5b",
        "outputId": "d8d63779-13f9-430a-82c0-a65e06f53e2e"
      },
      "execution_count": 13,
      "outputs": [
        {
          "output_type": "stream",
          "name": "stdout",
          "text": [
            "Happy New Year: Joseph\n",
            "Happy New Year: Glenn\n",
            "Happy New Year: Sally\n",
            "Done!\n"
          ]
        }
      ]
    }
  ]
}